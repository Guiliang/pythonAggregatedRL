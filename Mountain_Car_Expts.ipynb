{
 "cells": [
  {
   "cell_type": "code",
   "execution_count": 7,
   "metadata": {
    "collapsed": false
   },
   "outputs": [],
   "source": [
    "import Experiments\n",
    "import pylab as pl\n",
    "%matplotlib inline"
   ]
  },
  {
   "cell_type": "code",
   "execution_count": 2,
   "metadata": {
    "collapsed": false
   },
   "outputs": [
    {
     "name": "stdout",
     "output_type": "stream",
     "text": [
      "epsilon 25.6, len 17\n",
      "Episode timed out 100000\n",
      "53299.0\n",
      "34352.0\n",
      "4498.25\n",
      "4236.625\n",
      "1368.0625\n",
      "2099.78125\n",
      "1890.40625\n",
      "1646.7890625\n",
      "2104.90234375\n",
      "Episode timed out 100000\n",
      "2312.90820312\n",
      "Episode timed out 100000\n",
      "28124.0\n",
      "9010.0\n",
      "9545.5\n",
      "4010.125\n",
      "1793.3125\n",
      "1789.59375\n",
      "1491.359375\n",
      "497.0078125\n",
      "387.3203125\n",
      "263.947265625\n"
     ]
    }
   ],
   "source": [
    "data = Experiments.test_mountain_car(16,max_eps=2000)"
   ]
  },
  {
   "cell_type": "code",
   "execution_count": 3,
   "metadata": {
    "collapsed": false
   },
   "outputs": [
    {
     "data": {
      "text/html": [
       "<div style=\"max-height:1000px;max-width:1500px;overflow:auto;\">\n",
       "<table border=\"1\" class=\"dataframe\">\n",
       "  <thead>\n",
       "    <tr style=\"text-align: right;\">\n",
       "      <th></th>\n",
       "      <th>n_eps</th>\n",
       "      <th>disc</th>\n",
       "      <th>aggr</th>\n",
       "    </tr>\n",
       "  </thead>\n",
       "  <tbody>\n",
       "    <tr>\n",
       "      <th>0</th>\n",
       "      <td>2</td>\n",
       "      <td>53299.0000</td>\n",
       "      <td>28124.0000</td>\n",
       "    </tr>\n",
       "    <tr>\n",
       "      <th>1</th>\n",
       "      <td>4</td>\n",
       "      <td>34352.0000</td>\n",
       "      <td>9010.0000</td>\n",
       "    </tr>\n",
       "    <tr>\n",
       "      <th>2</th>\n",
       "      <td>8</td>\n",
       "      <td>4498.2500</td>\n",
       "      <td>9545.5000</td>\n",
       "    </tr>\n",
       "    <tr>\n",
       "      <th>3</th>\n",
       "      <td>16</td>\n",
       "      <td>4236.6250</td>\n",
       "      <td>4010.1250</td>\n",
       "    </tr>\n",
       "    <tr>\n",
       "      <th>4</th>\n",
       "      <td>32</td>\n",
       "      <td>1368.0625</td>\n",
       "      <td>1793.3125</td>\n",
       "    </tr>\n",
       "  </tbody>\n",
       "</table>\n",
       "</div>"
      ],
      "text/plain": [
       "   n_eps        disc        aggr\n",
       "0      2  53299.0000  28124.0000\n",
       "1      4  34352.0000   9010.0000\n",
       "2      8   4498.2500   9545.5000\n",
       "3     16   4236.6250   4010.1250\n",
       "4     32   1368.0625   1793.3125"
      ]
     },
     "execution_count": 3,
     "metadata": {},
     "output_type": "execute_result"
    }
   ],
   "source": [
    "data.head()"
   ]
  },
  {
   "cell_type": "code",
   "execution_count": 10,
   "metadata": {
    "collapsed": false
   },
   "outputs": [
    {
     "data": {
      "text/plain": [
       "<matplotlib.legend.Legend at 0x7fe31e5bdb10>"
      ]
     },
     "execution_count": 10,
     "metadata": {},
     "output_type": "execute_result"
    },
    {
     "data": {
      "image/png": "[encoded data removed]",
      "text/plain": [
       "<matplotlib.figure.Figure at 0x7fe31e6aa7d0>"
      ]
     },
     "metadata": {},
     "output_type": "display_data"
    }
   ],
   "source": [
    "pl.loglog(data['n_eps'],data['disc'],label='disc')\n",
    "pl.loglog(data['n_eps'],data['aggr'],label='agg')\n",
    "pl.legend()"
   ]
  },
  {
   "cell_type": "code",
   "execution_count": null,
   "metadata": {
    "collapsed": true
   },
   "outputs": [],
   "source": []
  }
 ],
 "metadata": {
  "kernelspec": {
   "display_name": "Python 2",
   "language": "python",
   "name": "python2"
  },
  "language_info": {
   "codemirror_mode": {
    "name": "ipython",
    "version": 2
   },
   "file_extension": ".py",
   "mimetype": "text/x-python",
   "name": "python",
   "nbconvert_exporter": "python",
   "pygments_lexer": "ipython2",
   "version": "2.7.6"
  }
 },
 "nbformat": 4,
 "nbformat_minor": 0
}
