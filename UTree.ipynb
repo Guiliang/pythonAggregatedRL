{
 "cells": [
  {
   "cell_type": "code",
   "execution_count": 1,
   "metadata": {
    "collapsed": true
   },
   "outputs": [],
   "source": [
    "import Agents\n",
    "import Problems"
   ]
  },
  {
   "cell_type": "code",
   "execution_count": 2,
   "metadata": {
    "collapsed": false,
    "scrolled": true
   },
   "outputs": [],
   "source": [
    "pr, pa, pv = Problems.genRandomProblems(4,2,2,2,0.5)"
   ]
  },
  {
   "cell_type": "code",
   "execution_count": 3,
   "metadata": {
    "collapsed": true
   },
   "outputs": [],
   "source": [
    "ua = Agents.UTreeAgent(pa)"
   ]
  },
  {
   "cell_type": "code",
   "execution_count": 4,
   "metadata": {
    "collapsed": false
   },
   "outputs": [
    {
     "name": "stdout",
     "output_type": "stream",
     "text": [
      "KS passed, p=3.95326823882e-05, d = 0, back=0\n",
      "KS passed, p=6.24325119464e-06, d = 0, back=1\n",
      "KS passed, p=9.70365750546e-08, d = -1, back=0\n"
     ]
    }
   ],
   "source": [
    "ua.episode()"
   ]
  },
  {
   "cell_type": "code",
   "execution_count": 5,
   "metadata": {
    "collapsed": false
   },
   "outputs": [
    {
     "name": "stdout",
     "output_type": "stream",
     "text": [
      "idx = 1, dis=0, back=0, par=None\n",
      "idx=2, qvaules=[ 0.], par=None\n",
      "idx=71, qvaules=[  2.22134137 -11.94248965], par=<UTree.UNode instance at 0x7f3addb98950>\n",
      "idx=8, qvaules=[ 16.06687552 -22.85782281], par=<UTree.UNode instance at 0x7f3ade4183f8>\n",
      "idx = 7, dis=0, back=1, par=<UTree.UNode instance at 0x7f3ade4183f8>\n",
      "idx = 72, dis=-1, back=0, par=<UTree.UNode instance at 0x7f3addb98950>\n",
      "idx=87, qvaules=[  2.72538448 -11.79545964], par=<UTree.UNode instance at 0x7f3addaf10e0>\n",
      "idx=88, qvaules=[  1.98008813 -12.08658459], par=<UTree.UNode instance at 0x7f3addaf10e0>\n"
     ]
    }
   ],
   "source": [
    "ua.utree.print_tree()"
   ]
  },
  {
   "cell_type": "code",
   "execution_count": 6,
   "metadata": {
    "collapsed": false
   },
   "outputs": [
    {
     "name": "stdout",
     "output_type": "stream",
     "text": [
      "KS passed, p=4.93581299941e-05, d = 0, back=0\n",
      "KS passed, p=7.69361104497e-06, d = 1, back=0\n",
      "KS passed, p=4.40695552831e-08, d = 1, back=0\n"
     ]
    }
   ],
   "source": [
    "uv = Agents.UTreeAgent(pv)\n",
    "uv.episode()"
   ]
  },
  {
   "cell_type": "code",
   "execution_count": 7,
   "metadata": {
    "collapsed": false
   },
   "outputs": [
    {
     "name": "stdout",
     "output_type": "stream",
     "text": [
      "idx = 1, dis=0, back=0, par=None\n",
      "idx=2, qvaules=[ 0.], par=None\n",
      "idx = 7, dis=1, back=0, par=<UTree.UNode instance at 0x7f3adb148fc8>\n",
      "idx = 8, dis=1, back=0, par=<UTree.UNode instance at 0x7f3adb148fc8>\n",
      "idx=80, qvaules=[ 15.93461368 -22.79822241], par=<UTree.UNode instance at 0x7f3addc44ea8>\n",
      "idx=77, qvaules=[ 12.58707361 -23.02266166], par=<UTree.UNode instance at 0x7f3addc44ea8>\n",
      "idx=78, qvaules=[ 12.58707361 -23.02266166], par=<UTree.UNode instance at 0x7f3addc44ea8>\n",
      "idx=15, qvaules=[  2.01763546 -12.06187757], par=<UTree.UNode instance at 0x7f3addc44dd0>\n",
      "idx=16, qvaules=[  1.98244139 -11.92376241], par=<UTree.UNode instance at 0x7f3addc44dd0>\n",
      "idx=17, qvaules=[  0.90299321 -14.60515302], par=<UTree.UNode instance at 0x7f3addc44dd0>\n",
      "idx=18, qvaules=[  0.90299321 -14.60515302], par=<UTree.UNode instance at 0x7f3addc44dd0>\n",
      "idx=79, qvaules=[ 15.91608629 -22.91420294], par=<UTree.UNode instance at 0x7f3addc44ea8>\n"
     ]
    }
   ],
   "source": [
    "uv.utree.print_tree()"
   ]
  },
  {
   "cell_type": "code",
   "execution_count": null,
   "metadata": {
    "collapsed": true
   },
   "outputs": [],
   "source": []
  }
 ],
 "metadata": {
  "kernelspec": {
   "display_name": "Python 2",
   "language": "python",
   "name": "python2"
  },
  "language_info": {
   "codemirror_mode": {
    "name": "ipython",
    "version": 2
   },
   "file_extension": ".py",
   "mimetype": "text/x-python",
   "name": "python",
   "nbconvert_exporter": "python",
   "pygments_lexer": "ipython2",
   "version": "2.7.6"
  }
 },
 "nbformat": 4,
 "nbformat_minor": 0
}
